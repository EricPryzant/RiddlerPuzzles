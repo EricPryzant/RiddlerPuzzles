{
  "nbformat": 4,
  "nbformat_minor": 0,
  "metadata": {
    "colab": {
      "name": "Riddler Express_20210222.ipynb",
      "provenance": [],
      "collapsed_sections": [],
      "authorship_tag": "ABX9TyNkbmc2FdlUKDBrkEhCrE4y",
      "include_colab_link": true
    },
    "kernelspec": {
      "name": "python3",
      "display_name": "Python 3"
    }
  },
  "cells": [
    {
      "cell_type": "markdown",
      "metadata": {
        "id": "view-in-github",
        "colab_type": "text"
      },
      "source": [
        "<a href=\"https://colab.research.google.com/github/EricPryzant/RiddlerPuzzles/blob/main/20210119/Riddler_Express_20210222.ipynb\" target=\"_parent\"><img src=\"https://colab.research.google.com/assets/colab-badge.svg\" alt=\"Open In Colab\"/></a>"
      ]
    },
    {
      "cell_type": "markdown",
      "metadata": {
        "id": "-I3pNVLXUUdk"
      },
      "source": [
        "#Riddler Express\n",
        "#####https://fivethirtyeight.com/features/can-you-win-riddler-jenga/\n",
        "This week marks the third of four CrossProduct™ puzzles. This time, there are seven three-digit numbers — each belongs in a row of the table below, with one digit per cell. The products of the three digits of each number are shown in the rightmost column. Meanwhile, the products of the digits in the hundreds, tens and ones places, respectively, are shown in the bottom row."
      ]
    },
    {
      "cell_type": "markdown",
      "metadata": {
        "id": "gb_WbSo2Ukzb"
      },
      "source": [
        "| 0 | 1 | 2 | Product |\n",
        "| - | - | - | ------- |\n",
        "|   |   |   | 280 |\n",
        "|   |   |   | 168 |\n",
        "|   |   |   | 162 |\n",
        "|   |   |   | 360 |\n",
        "|   |   |   | 60 |\n",
        "|   |   |   | 256 |\n",
        "|   |   |   | 126 |\n",
        "|183,708|245,760|117,600|  |\n",
        "\n",
        "Can you find all seven three-digit numbers and complete the table?"
      ]
    },
    {
      "cell_type": "code",
      "metadata": {
        "id": "b6enVGTXUMjx"
      },
      "source": [
        "## Initialize the variables given in the problem\n",
        "puzzle_rows = [280, 168, 162, 360, 60, 256, 126]\n",
        "puzzle_columns = [183708, 245760, 117600]"
      ],
      "execution_count": 1,
      "outputs": []
    },
    {
      "cell_type": "code",
      "metadata": {
        "id": "IA4dkTsvaMY5"
      },
      "source": [
        "## Identify every feasible combination for ever row\n",
        "## Don't judge, this is quick and dirty\n",
        "def build_row_combinations(rows: list) -> list:\n",
        "    combinations = []\n",
        "    for i, row in enumerate(rows):\n",
        "        combinations.append([])\n",
        "        for x in range(10):\n",
        "            for y in range(10):\n",
        "                for z in range(10):\n",
        "                    if x*y*z == row:\n",
        "                        combinations[i].append([x,y,z])\n",
        "        print(\"Row {i} has {n} feasible combinations\".format(i=i, n=len(combinations[i])))\n",
        "    return combinations"
      ],
      "execution_count": 2,
      "outputs": []
    },
    {
      "cell_type": "code",
      "metadata": {
        "id": "ox7lcvIcjJ7s"
      },
      "source": [
        "## Check each combination to solve the problem\n",
        "## Don't judge, this is quick and dirty\n",
        "def check_columns(combinations: list, columns: list) -> list:\n",
        "    for a in combinations[0]:\n",
        "        for b in combinations[1]:\n",
        "            for c in combinations[2]:\n",
        "                for d in combinations[3]:\n",
        "                    for e in combinations[4]:\n",
        "                        for f in combinations[5]:\n",
        "                            for g in combinations[6]:\n",
        "                                result = True\n",
        "                                for i, col in enumerate(columns):\n",
        "                                    if a[i]*b[i]*c[i]*d[i]*e[i]*f[i]*g[i] != col:\n",
        "                                        result = False\n",
        "                                if result == True:\n",
        "                                    print(\"Solution found!\", a,b,c,d,e,f,g)\n",
        "                                    return [a,b,c,d,e,f,g]\n"
      ],
      "execution_count": 3,
      "outputs": []
    },
    {
      "cell_type": "code",
      "metadata": {
        "colab": {
          "base_uri": "https://localhost:8080/"
        },
        "id": "WBtk9kWLgNJo",
        "outputId": "066b1cd5-bf46-4192-cf94-d0d723314a36"
      },
      "source": [
        "## Solve the riddle\n",
        "feasible_combos = build_row_combinations(puzzle_rows)\n",
        "solution = check_columns(feasible_combos, puzzle_columns)"
      ],
      "execution_count": 5,
      "outputs": [
        {
          "output_type": "stream",
          "text": [
            "Row 0 has 6 combinations\n",
            "Row 1 has 12 combinations\n",
            "Row 2 has 9 combinations\n",
            "Row 3 has 6 combinations\n",
            "Row 4 has 12 combinations\n",
            "Row 5 has 3 combinations\n",
            "Row 6 has 12 combinations\n",
            "Solution found! [7, 8, 5] [3, 8, 7] [9, 6, 3] [9, 8, 5] [3, 5, 4] [4, 8, 8] [9, 2, 7]\n"
          ],
          "name": "stdout"
        }
      ]
    },
    {
      "cell_type": "markdown",
      "metadata": {
        "id": "JXfrOR2Hd38a"
      },
      "source": [
        "#Solution\n",
        "| A | B | C | Product |\n",
        "| :-: | :-: | :-: | :-------: |\n",
        "| 7 | 8 | 5 | 280 |\n",
        "| 3 | 8 | 7 | 168 |\n",
        "| 9 | 6 | 3 | 162 |\n",
        "| 9 | 8 | 5 | 360 |\n",
        "| 3 | 5 | 4 | 60 |\n",
        "| 4 | 8 | 8 | 256 |\n",
        "| 9 | 2 | 7 | 126 |\n",
        "|183,708|245,760|117,600|  |"
      ]
    }
  ]
}