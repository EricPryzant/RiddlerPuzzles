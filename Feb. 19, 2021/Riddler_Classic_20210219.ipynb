{
  "nbformat": 4,
  "nbformat_minor": 0,
  "metadata": {
    "colab": {
      "name": "Riddler Classic 20210222.ipynb",
      "provenance": [],
      "authorship_tag": "ABX9TyM/tJt1a2A/d0zru+GBs7zW",
      "include_colab_link": true
    },
    "kernelspec": {
      "name": "python3",
      "display_name": "Python 3"
    }
  },
  "cells": [
    {
      "cell_type": "markdown",
      "metadata": {
        "id": "view-in-github",
        "colab_type": "text"
      },
      "source": [
        "<a href=\"https://colab.research.google.com/github/EricPryzant/RiddlerPuzzles/blob/main/20210219/Riddler_Classic_20210222.ipynb\" target=\"_parent\"><img src=\"https://colab.research.google.com/assets/colab-badge.svg\" alt=\"Open In Colab\"/></a>"
      ]
    },
    {
      "cell_type": "markdown",
      "metadata": {
        "id": "JMKuqxzIsDdF"
      },
      "source": [
        "#Riddler Classic\n",
        "\n",
        "https://fivethirtyeight.com/features/can-you-win-riddler-jenga/\n",
        "\n",
        "In the game of Jenga, you build a tower and then remove its blocks, one at a time, until the tower collapses. But in Riddler Jenga, you start with one block and then place more blocks on top of it, one at a time.\n",
        "\n",
        "All the blocks have the same alignment (e.g., east-west). Importantly, whenever you place a block, its center is picked randomly along the block directly beneath it. For example, the following animation shows Riddler Jenga towers that were randomly constructed before ultimately collapsing when the fifth, 10th and 15th blocks were placed. The block highlighted in red is the one above which the blocks were no longer balanced.\n",
        "\n",
        "**On average, how many blocks must you place so that your tower collapses — that is, until at least one block falls off?**\n",
        "\n",
        "(Note: This problem is not asking for the average height of the tower after any unbalanced blocks have fallen off. It is asking for the average number of blocks added in order to make the tower collapse in the first place.)\n"
      ]
    },
    {
      "cell_type": "code",
      "metadata": {
        "id": "jA5Wea7rsKBM"
      },
      "source": [
        "## Initialize all necessary variables\n",
        "import random\n",
        "from tqdm import tqdm\n",
        "\n",
        "length = 10\n",
        "iterations = 1000000\n",
        "output_msg = \"\\nSimulation results:\\tAverage={avg}\\tHighest={h}\\tLowest={l}\\tCumulative Total={ct}\\tIterations={i}\"\n",
        "cumulative_height, avg, h, l = 0, 0, 0, 0\n",
        "debug = False"
      ],
      "execution_count": 1,
      "outputs": []
    },
    {
      "cell_type": "code",
      "metadata": {
        "id": "I_U6drImdJvy"
      },
      "source": [
        "## Add a new block to the tower\n",
        "def generate_new_block(last_block: float, length: int = 1) -> float:\n",
        "    rand_start = last_block - length/2\n",
        "    rand_end = last_block + length/2\n",
        "    new_block = random.uniform(rand_start, rand_end)\n",
        "    return new_block"
      ],
      "execution_count": null,
      "outputs": []
    },
    {
      "cell_type": "code",
      "metadata": {
        "id": "rm6AeWl9WFPk"
      },
      "source": [
        "## Calculate the center of mass for each tower segment and check for balance\n",
        "def check_centers_of_mass(tower: list, new_block: float, length=1, debug=False) -> bool:\n",
        "    height = len(tower)\n",
        "    msg = \"{i} - Block center = {block}, Tower center = {com}, left bound = {lb}, right_bound = {rb}\"\n",
        "    if debug: print(\"\\n--- Checking new block = {x} ---\".format(x=new_block))\n",
        "    for i, block in enumerate(tower):\n",
        "        com = sum(tower[i:])/len(tower[i:])\n",
        "        left_bound = block - length/2\n",
        "        right_bound = block + length/2\n",
        "        if debug: print(msg.format(i=i, block=block, com=com, lb=left_bound, rb=right_bound))\n",
        "        if com < left_bound or com > right_bound:\n",
        "            return False\n",
        "    return True"
      ],
      "execution_count": 2,
      "outputs": []
    },
    {
      "cell_type": "code",
      "metadata": {
        "colab": {
          "base_uri": "https://localhost:8080/"
        },
        "id": "ZYXs8YFuWHqu",
        "outputId": "f1b7e181-1228-46e9-93cb-03c13a6b2b00"
      },
      "source": [
        "## Simulate the game of Jenga many many times to derive an empirical result\n",
        "for _ in tqdm(range(iterations)):\n",
        "    tower = [0]\n",
        "    while True:\n",
        "        new_block = generate_new_block(last_block=tower[-1], length=length)\n",
        "        tower.append(new_block)\n",
        "        success = check_centers_of_mass(tower, new_block, length)\n",
        "        if not success:\n",
        "            cumulative_height += len(tower)\n",
        "            if len(tower) > h: h = len(tower)\n",
        "            if len(tower) < l: l = len(tower)\n",
        "            if debug: print(\"Jenga!! Final height was {n}\".format(n=len(tower)))\n",
        "            break\n",
        "avg = cumulative_height/iterations\n",
        "print(output_msg.format(avg=avg, h=h, l=l, ct=cumulative_height, i=iterations))"
      ],
      "execution_count": 3,
      "outputs": [
        {
          "output_type": "stream",
          "text": [
            "100%|██████████| 1000000/1000000 [00:46<00:00, 21530.31it/s]"
          ],
          "name": "stderr"
        },
        {
          "output_type": "stream",
          "text": [
            "\n",
            "Simulation results:\tAverage=9.903547\tHighest=61\tLowest=0\tCumulative Total=9903547\tIterations=1000000\n"
          ],
          "name": "stdout"
        },
        {
          "output_type": "stream",
          "text": [
            "\n"
          ],
          "name": "stderr"
        }
      ]
    }
  ]
}